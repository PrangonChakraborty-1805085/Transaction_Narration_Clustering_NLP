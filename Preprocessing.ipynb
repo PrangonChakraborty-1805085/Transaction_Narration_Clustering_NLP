{
 "cells": [
  {
   "cell_type": "code",
   "execution_count": null,
   "metadata": {
    "id": "aZ_uzQairms0"
   },
   "outputs": [],
   "source": [
    "import pandas as pd\n",
    "import nltk\n",
    "import spacy\n",
    "import numpy as np"
   ]
  },
  {
   "cell_type": "code",
   "execution_count": null,
   "metadata": {},
   "outputs": [],
   "source": [
    "from nltk.corpus import stopwords"
   ]
  },
  {
   "cell_type": "code",
   "execution_count": null,
   "metadata": {
    "colab": {
     "base_uri": "https://localhost:8080/"
    },
    "id": "2vXqwesC0V7a",
    "outputId": "7d398e7a-6201-42ae-a861-197f348e5dfc"
   },
   "outputs": [],
   "source": [
    "nltk.download('punkt')"
   ]
  },
  {
   "cell_type": "code",
   "execution_count": null,
   "metadata": {},
   "outputs": [],
   "source": [
    "nltk.download('wordnet')"
   ]
  },
  {
   "cell_type": "code",
   "execution_count": null,
   "metadata": {},
   "outputs": [],
   "source": [
    "nltk.download('omw-1.4')"
   ]
  },
  {
   "cell_type": "code",
   "execution_count": null,
   "metadata": {},
   "outputs": [],
   "source": [
    "nltk.download('stopwords')"
   ]
  },
  {
   "cell_type": "code",
   "execution_count": null,
   "metadata": {
    "id": "_3rpHXIxru2r"
   },
   "outputs": [],
   "source": [
    "path = \"./Transaction_Naration_Data_Set.csv\"\n",
    "data=pd.read_csv(path)"
   ]
  },
  {
   "cell_type": "code",
   "execution_count": null,
   "metadata": {
    "id": "nebPU7WL1Z_s"
   },
   "outputs": [],
   "source": [
    "# Text Cleaning\n",
    "# a.lowercasing\n",
    "data['NARATION']=data['NARATION'].str.lower()"
   ]
  },
  {
   "cell_type": "code",
   "execution_count": null,
   "metadata": {
    "id": "L0ttPJTm3ahz"
   },
   "outputs": [],
   "source": [
    "# removing special characters and punctuations\n",
    "data['NARATION'] = data['NARATION'].str.replace('[^A-Za-z]', ' ', regex = True)\n",
    "data['NARATION'] = data['NARATION'].str.replace('withdrawal', 'withdraw', regex = True)\n"
   ]
  },
  {
   "cell_type": "code",
   "execution_count": null,
   "metadata": {
    "id": "uwtqjSBK_I3D"
   },
   "outputs": [],
   "source": [
    "# remove duplicate\n",
    "data=data.dropna()"
   ]
  },
  {
   "cell_type": "code",
   "execution_count": null,
   "metadata": {
    "id": "-tWPPFpE0B47"
   },
   "outputs": [],
   "source": [
    "# lemmatization and tokenization\n",
    "tokenizer = nltk.tokenize.WhitespaceTokenizer()\n",
    "lemmatizer = nltk.stem.WordNetLemmatizer()\n",
    "def lemmatize(text):\n",
    "#     print(text)\n",
    "    tokenized_words= tokenizer.tokenize(text)\n",
    "    return [lemmatizer.lemmatize(w) for w in tokenized_words]\n",
    "\n",
    "data['NARATION'] = data['NARATION'].apply(lemmatize)"
   ]
  },
  {
   "cell_type": "code",
   "execution_count": null,
   "metadata": {},
   "outputs": [],
   "source": [
    "data.head(5)\n",
    "print(data['NARATION'][0]) \n",
    "print(data['NARATION'][0][0])"
   ]
  },
  {
   "cell_type": "code",
   "execution_count": null,
   "metadata": {},
   "outputs": [],
   "source": [
    "stop_words = stopwords.words('english')\n",
    "stop_words.append('mm')\n",
    "stop_words.append('c')\n",
    "stop_words.append('md')\n",
    "\n",
    "def remove_stopwords(tokens_array):\n",
    "#     word_tokens = word_tokenize(sentence)  \n",
    "    clean_tokens = [w for w in tokens_array if not w in stop_words]  \n",
    "    \n",
    "    return clean_tokens\n",
    "    \n",
    "data['STOP_WORD_REMOVED_NARATION'] = data['NARATION'].apply(remove_stopwords)"
   ]
  },
  {
   "cell_type": "code",
   "execution_count": null,
   "metadata": {},
   "outputs": [],
   "source": [
    "data.to_csv('preprocessed_data.csv')"
   ]
  }
 ],
 "metadata": {
  "colab": {
   "provenance": []
  },
  "kernelspec": {
   "display_name": "Python 3 (ipykernel)",
   "language": "python",
   "name": "python3"
  },
  "language_info": {
   "codemirror_mode": {
    "name": "ipython",
    "version": 3
   },
   "file_extension": ".py",
   "mimetype": "text/x-python",
   "name": "python",
   "nbconvert_exporter": "python",
   "pygments_lexer": "ipython3",
   "version": "3.9.12"
  }
 },
 "nbformat": 4,
 "nbformat_minor": 1
}
